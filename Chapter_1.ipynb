{
  "nbformat": 4,
  "nbformat_minor": 0,
  "metadata": {
    "colab": {
      "provenance": [],
      "authorship_tag": "ABX9TyOS5XFQ+maQIZUcv0b3lWhr"
    },
    "kernelspec": {
      "name": "python3",
      "display_name": "Python 3"
    },
    "language_info": {
      "name": "python"
    }
  },
  "cells": [
    {
      "cell_type": "code",
      "execution_count": 1,
      "metadata": {
        "colab": {
          "base_uri": "https://localhost:8080/"
        },
        "id": "UZzRqHD1r2UF",
        "outputId": "33a1ecd1-fd0e-4df3-e940-dc6f6303b47c"
      },
      "outputs": [
        {
          "output_type": "execute_result",
          "data": {
            "text/plain": [
              "sys.version_info(major=3, minor=10, micro=12, releaselevel='final', serial=0)"
            ]
          },
          "metadata": {},
          "execution_count": 1
        }
      ],
      "source": [
        "import sys\n",
        "\n",
        "sys.version_info"
      ]
    },
    {
      "cell_type": "code",
      "source": [
        "import keyword\n",
        "\n",
        "len(keyword.kwlist)"
      ],
      "metadata": {
        "colab": {
          "base_uri": "https://localhost:8080/"
        },
        "id": "7SYhbq3Pt5Qn",
        "outputId": "39826483-2ae1-42ac-cff0-9121bbea53ae"
      },
      "execution_count": 2,
      "outputs": [
        {
          "output_type": "execute_result",
          "data": {
            "text/plain": [
              "35"
            ]
          },
          "metadata": {},
          "execution_count": 2
        }
      ]
    },
    {
      "cell_type": "code",
      "source": [
        "count = 0\n",
        "for i in keyword.kwlist:\n",
        "    print(i, end= \", \")\n",
        "    count += 1\n",
        "    if count % 5 == 0:\n",
        "        print()\n"
      ],
      "metadata": {
        "colab": {
          "base_uri": "https://localhost:8080/"
        },
        "id": "d2CMceeutbVV",
        "outputId": "ca604aa2-4bc7-4faf-cd60-4632eaf2dde1"
      },
      "execution_count": 8,
      "outputs": [
        {
          "output_type": "stream",
          "name": "stdout",
          "text": [
            "False, None, True, and, as, \n",
            "assert, async, await, break, class, \n",
            "continue, def, del, elif, else, \n",
            "except, finally, for, from, global, \n",
            "if, import, in, is, lambda, \n",
            "nonlocal, not, or, pass, raise, \n",
            "return, try, while, with, yield, \n"
          ]
        }
      ]
    },
    {
      "cell_type": "code",
      "source": [
        "import string\n",
        "\n"
      ],
      "metadata": {
        "id": "QJmwW761wPjO"
      },
      "execution_count": 9,
      "outputs": []
    }
  ]
}